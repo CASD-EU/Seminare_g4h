{
 "cells": [
  {
   "metadata": {
    "collapsed": true
   },
   "cell_type": "markdown",
   "source": [
    "# Use metadata to discover dataasset\n",
    "\n",
    "We have seen how to ingest metadata into open metadata, now let's see how to use these metadata to discover datasets.\n",
    "\n",
    "There are many ways to discover datasets in open metadata.\n",
    "- Search bar\n",
    "- Explore\n",
    "\n",
    "## 1. Search bar\n",
    "\n",
    "In the `Home tab` and `Explore tab`, you have the main search bar. This is the main search engine of the Open metadata. It's empowered by a full text search enigne(Elasticsearch). It means all indexed text are searchable.\n",
    "Index text are:\n",
    "- Entity Name(e.g. table, column, file, etc.)\n",
    "- Entity description(e.g. table, column, file, etc.)\n",
    "- Classification/tags\n",
    "- Glossary/terms\n",
    "\n",
    "### 1.1 search with keywords\n",
    "\n",
    "Try to enter keyword `fr`, and see what you can find in the search bar.\n",
    "\n",
    "> You should see two tables: `fr_communes_raw` and `fr_commnues_clean`\n",
    "\n",
    "Click on the table `fr_communes_raw`, this the basic view of a data entity in Openmetadata.\n",
    "\n",
    "### 1.2 Use filter to reduce results\n",
    "\n",
    "If there are too many entities that contain the keyword, you may need to add some filter conditions to reduce the search result number.\n",
    "\n",
    "Open Metadata provides a simple filter bar which allows user to combine basic conditions. The below figure shows an example\n",
    "\n",
    "![om_simple_search.png](../assets/om_simple_search.png)\n",
    "\n",
    "> The conditions are combined with and operator.\n",
    "\n",
    "### 1.3 Filter entity by type\n",
    "\n",
    "We can also filter entity by their type (e.g. database, table, container(file), tag, etc.)\n",
    "\n",
    "![om_filter_by_type.png](../assets/om_filter_by_type.png)\n",
    "\n",
    "### 1.4 Filter entity by usage\n",
    "\n",
    "We can also filter entity by their usage popularity.\n",
    "\n",
    "![om_usage_filter.png](../assets/om_usage_filter.png)\n",
    "\n",
    "### 1.5 Advance search\n",
    "\n",
    "In OM, the advance search is specific for each **service**(e.g. database, storage, etc.). Because each service has different attributes.\n",
    "To activate the advance search, you need to choose first a **service** in the filter bar. A new button to activate the advance search will appear.\n",
    "![om_activate_ad_search.png](../assets/om_activate_ad_search.png)\n",
    "\n",
    "After clicking on this button, you will see the below pop-up dialog\n",
    "![](../assets/om_advance_search.png)\n",
    "\n",
    "In this window, you can add advance conditions, and combine them with `and, or` operators.\n",
    "\n",
    "\n",
    "\n",
    "\n",
    "## 2. Explore\n",
    "\n",
    "If you already know where the data is located, you can use the dataset explore tool to find the data\n",
    "\n",
    "The Below figure shows an example.\n",
    "\n",
    "![om_dataset_explorer.png](../assets/om_dataset_explorer.png)"
   ],
   "id": "8b348de880e0677a"
  },
  {
   "metadata": {},
   "cell_type": "markdown",
   "source": "",
   "id": "7b7af6e5d515bc39"
  }
 ],
 "metadata": {
  "kernelspec": {
   "display_name": "Python 3",
   "language": "python",
   "name": "python3"
  },
  "language_info": {
   "codemirror_mode": {
    "name": "ipython",
    "version": 2
   },
   "file_extension": ".py",
   "mimetype": "text/x-python",
   "name": "python",
   "nbconvert_exporter": "python",
   "pygments_lexer": "ipython2",
   "version": "2.7.6"
  }
 },
 "nbformat": 4,
 "nbformat_minor": 5
}
